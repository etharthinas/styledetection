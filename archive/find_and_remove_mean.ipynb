{
 "cells": [
  {
   "cell_type": "code",
   "execution_count": 8,
   "id": "3e6ecc68",
   "metadata": {},
   "outputs": [],
   "source": [
    "import pandas as pd\n",
    "blog=pd.read_csv('blogtext.csv')\n"
   ]
  },
  {
   "cell_type": "code",
   "execution_count": 9,
   "id": "190b0980",
   "metadata": {},
   "outputs": [],
   "source": [
    "blog=blog[:9000]"
   ]
  },
  {
   "cell_type": "code",
   "execution_count": 10,
   "id": "628b1ea4",
   "metadata": {},
   "outputs": [
    {
     "name": "stderr",
     "output_type": "stream",
     "text": [
      "100%|██████████| 9000/9000 [00:01<00:00, 5055.21it/s]\n"
     ]
    }
   ],
   "source": [
    "from tqdm import tqdm\n",
    "for i in tqdm(range(len(blog))):\n",
    "    if len(blog['text'][i])<100:\n",
    "        blog.drop([i], axis=0, inplace=True)"
   ]
  },
  {
   "cell_type": "code",
   "execution_count": 12,
   "id": "6e3b6928",
   "metadata": {},
   "outputs": [],
   "source": [
    "blog=blog[:6592]"
   ]
  },
  {
   "cell_type": "code",
   "execution_count": 17,
   "id": "06b9f386",
   "metadata": {},
   "outputs": [],
   "source": [
    "blog.index = list(range(0,6592))"
   ]
  },
  {
   "cell_type": "code",
   "execution_count": 18,
   "id": "d3a59804",
   "metadata": {
    "scrolled": false
   },
   "outputs": [],
   "source": [
    "from sentence_transformers import SentenceTransformer\n",
    "model=SentenceTransformer('all-MiniLM-L6-v2')\n",
    "embedding=model.encode(blog['text'])"
   ]
  },
  {
   "cell_type": "code",
   "execution_count": 19,
   "id": "9f374892",
   "metadata": {
    "scrolled": true
   },
   "outputs": [],
   "source": [
    "import torch\n",
    "torch.save(torch.tensor(embedding),\"embedding.pt\")\n",
    "emb=torch.load('embedding.pt')"
   ]
  },
  {
   "cell_type": "code",
   "execution_count": 40,
   "id": "6397ed35",
   "metadata": {
    "scrolled": true
   },
   "outputs": [],
   "source": [
    
    "from sklearn.cluster import KMeans\n",
    
    "from sklearn.metrics import v_measure_score\n",
    
    "from tqdm import tqdm\n",
    "from sklearn.feature_extraction.text import CountVectorizer\n",
    "from sklearn.metrics.pairwise import cosine_similarity\n",
    "import numpy as np\n",
    "def model2(n_gram_range,top_n,cluster):\n",
    "    style_embedding=[]\n",
    "    model=SentenceTransformer('all-MiniLM-L6-v2')\n",
    "    for i in tqdm(range(len(blog))):\n",
    "        count = CountVectorizer(ngram_range=(n_gram_range,n_gram_range),stop_words=None).fit([blog['text'][i]])\n",
    "        candidates = count.get_feature_names_out()\n",
    "        candidate_embeddings = model.encode(candidates)\n",
    "        #distances=cosine_similarity([embedding[i]], candidate_embeddings)\n",
    "        distances=cosine_similarity([emb.numpy()[i]], candidate_embeddings)\n",
    "        keywords_embeddings = np.array([candidate_embeddings[index] for index in distances.argsort()[0][-top_n:]])\n",
    "        mean_keywords=np.mean(keywords_embeddings,axis=0)\n",
    "        #style_embedding.append(embedding[i]-mean_keywords)\n",
    "        style_embedding.append(emb.numpy()[i]-mean_keywords)\n",
    "\n",    
    "    kmeans=KMeans(n_clusters=cluster)\n",
    "    style=np.array(style_embedding)\n",
    "    kmeans.fit(style)\n",
    "    label=kmeans.labels_\n",
    "    lab = torch.tensor(label)\n",
    "    torch.save(lab,\"label_ngram{}_top{}_cluster{}.pt\".format(n_gram_range,top_n,cluster))\n",
    "    return v_measure_score(blog[\"id\"],label)"
   ]
  },
  {
   "cell_type": "code",
   "execution_count": 41,
   "id": "b2b7d4d6",
   "metadata": {
    "scrolled": false
   },
   "outputs": [
    {
     "name": "stderr",
     "output_type": "stream",
     "text": [
      "100%|██████████| 6592/6592 [36:51<00:00,  2.98it/s]  \n",
      "C:\\Users\\dofod\\anaconda3\\envs\\NLP\\lib\\site-packages\\sklearn\\cluster\\_kmeans.py:870: FutureWarning: The default value of `n_init` will change from 10 to 'auto' in 1.4. Set the value of `n_init` explicitly to suppress the warning\n",
      "  warnings.warn(\n"
     ]
    },
    {
     "name": "stdout",
     "output_type": "stream",
     "text": [
      "0.16297355477241465\n"
     ]
    }
   ],
   "source": [
    "print(model2(3,5,10))"
   ]
  }
 ],
 "metadata": {
  "kernelspec": {
   "display_name": "Python 3 (ipykernel)",
   "language": "python",
   "name": "python3"
  },
  "language_info": {
   "codemirror_mode": {
    "name": "ipython",
    "version": 3
   },
   "file_extension": ".py",
   "mimetype": "text/x-python",
   "name": "python",
   "nbconvert_exporter": "python",
   "pygments_lexer": "ipython3",
   "version": "3.9.16"
  }
 },
 "nbformat": 4,
 "nbformat_minor": 5
}
