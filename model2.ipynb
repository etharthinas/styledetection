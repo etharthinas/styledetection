{
 "cells": [
  {
   "cell_type": "code",
   "execution_count": 8,
   "id": "4c1ad0a6",
   "metadata": {},
   "outputs": [],
   "source": [
    "import pandas as pd\n",
    "blog=pd.read_csv('blogtext.csv')\n"
   ]
  },
  {
   "cell_type": "code",
   "execution_count": 9,
   "id": "6230bd42",
   "metadata": {},
   "outputs": [],
   "source": [
    "blog=blog[:9000]"
   ]
  },
  {
   "cell_type": "code",
   "execution_count": 10,
   "id": "de15593f",
   "metadata": {},
   "outputs": [
    {
     "name": "stderr",
     "output_type": "stream",
     "text": [
      "100%|██████████| 9000/9000 [00:01<00:00, 5055.21it/s]\n"
     ]
    }
   ],
   "source": [
    "from tqdm import tqdm\n",
    "for i in tqdm(range(len(blog))):\n",
    "    if len(blog['text'][i])<100:\n",
    "        blog.drop([i], axis=0, inplace=True)"
   ]
  },
  {
   "cell_type": "code",
   "execution_count": 11,
   "id": "4e8a7683",
   "metadata": {
    "scrolled": true
   },
   "outputs": [
    {
     "data": {
      "text/plain": [
       "7481"
      ]
     },
     "execution_count": 11,
     "metadata": {},
     "output_type": "execute_result"
    }
   ],
   "source": [
    "len(blog)"
   ]
  },
  {
   "cell_type": "code",
   "execution_count": 12,
   "id": "54e6a062",
   "metadata": {},
   "outputs": [],
   "source": [
    "blog=blog[:6592]"
   ]
  },
  {
   "cell_type": "code",
   "execution_count": 17,
   "id": "96ed360f",
   "metadata": {},
   "outputs": [],
   "source": [
    "blog.index = list(range(0,6592))"
   ]
  },
  {
   "cell_type": "code",
   "execution_count": 18,
   "id": "92b19f2f",
   "metadata": {
    "scrolled": false
   },
   "outputs": [],
   "source": [
    "from sentence_transformers import SentenceTransformer\n",
    "model=SentenceTransformer('all-MiniLM-L6-v2')\n",
    "embedding=model.encode(blog['text'])"
   ]
  },
  {
   "cell_type": "code",
   "execution_count": 19,
   "id": "34cff7c2",
   "metadata": {
    "scrolled": true
   },
   "outputs": [],
   "source": [
    "import torch\n",
    "emb = torch.tensor(embedding)"
   ]
  },
  {
   "cell_type": "code",
   "execution_count": 20,
   "id": "28ddc2fb",
   "metadata": {},
   "outputs": [],
   "source": [
    "torch.save(emb,\"embedding.pt\")"
   ]
  },
  {
   "cell_type": "code",
   "execution_count": 21,
   "id": "e4ae09d2",
   "metadata": {},
   "outputs": [],
   "source": [
    "e=torch.load('embedding.pt')"
   ]
  },
  {
   "cell_type": "code",
   "execution_count": 22,
   "id": "afa9402b",
   "metadata": {
    "scrolled": true
   },
   "outputs": [
    {
     "name": "stderr",
     "output_type": "stream",
     "text": [
      "100%|██████████| 6592/6592 [38:10<00:00,  2.88it/s]  \n",
      "C:\\Users\\dofod\\anaconda3\\envs\\NLP\\lib\\site-packages\\sklearn\\cluster\\_kmeans.py:870: FutureWarning: The default value of `n_init` will change from 10 to 'auto' in 1.4. Set the value of `n_init` explicitly to suppress the warning\n",
      "  warnings.warn(\n"
     ]
    }
   ],
   "source": [
    "from tqdm import tqdm\n",
    "from sklearn.feature_extraction.text import CountVectorizer\n",
    "from sklearn.metrics.pairwise import cosine_similarity\n",
    "import numpy as np\n",
    "n_gram_range = (3, 3)\n",
    "top_n = 5\n",
    "style_embedding=[]\n",
    "model=SentenceTransformer('all-MiniLM-L6-v2')\n",
    "for i in tqdm(range(len(blog))):\n",
    "    count = CountVectorizer(ngram_range=n_gram_range,stop_words=None).fit([blog['text'][i]])\n",
    "    candidates = count.get_feature_names_out()\n",
    "    candidate_embeddings = model.encode(candidates)\n",
    "    distances=cosine_similarity([embedding[i]], candidate_embeddings)\n",
    "    keywords_embeddings = np.array([candidate_embeddings[index] for index in distances.argsort()[0][-top_n:]])\n",
    "    mean_keywords=np.mean(keywords_embeddings,axis=0)\n",
    "    style_embedding.append(embedding[i]-mean_keywords)\n",
    "\n",
    "from sklearn.cluster import KMeans\n",
    "cluster=10\n",
    "kmeans=KMeans(n_clusters=cluster)\n",
    "style=np.array(style_embedding)\n",
    "kmeans.fit(style)\n",
    "label=kmeans.labels_"
   ]
  },
  {
   "cell_type": "code",
   "execution_count": 23,
   "id": "4ef89f2e",
   "metadata": {
    "scrolled": false
   },
   "outputs": [
    {
     "data": {
      "text/plain": [
       "0.1581790230523081"
      ]
     },
     "execution_count": 23,
     "metadata": {},
     "output_type": "execute_result"
    }
   ],
   "source": [
    "from sklearn.metrics import v_measure_score\n",
    "v_measure_score(blog[\"id\"],label)"
   ]
  },
  {
   "cell_type": "code",
   "execution_count": 25,
   "id": "e9daa408",
   "metadata": {},
   "outputs": [],
   "source": [
    "lab = torch.tensor(label)\n",
    "torch.save(lab,\"label.pt\")"
   ]
  }
 ],
 "metadata": {
  "kernelspec": {
   "display_name": "Python 3 (ipykernel)",
   "language": "python",
   "name": "python3"
  },
  "language_info": {
   "codemirror_mode": {
    "name": "ipython",
    "version": 3
   },
   "file_extension": ".py",
   "mimetype": "text/x-python",
   "name": "python",
   "nbconvert_exporter": "python",
   "pygments_lexer": "ipython3",
   "version": "3.9.16"
  }
 },
 "nbformat": 4,
 "nbformat_minor": 5
}
