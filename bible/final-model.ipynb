{
  "nbformat": 4,
  "nbformat_minor": 0,
  "metadata": {
    "colab": {
      "provenance": [],
      "gpuType": "T4"
    },
    "kernelspec": {
      "name": "python3",
      "display_name": "Python 3"
    },
    "language_info": {
      "name": "python"
    },
    "accelerator": "GPU"
  },
  "cells": [
    {
      "cell_type": "code",
      "execution_count": 84,
      "metadata": {
        "colab": {
          "base_uri": "https://localhost:8080/"
        },
        "id": "V7ULvMGxbjbf",
        "outputId": "38baa189-e2cc-471a-93b7-b3b6a3c8ef64"
      },
      "outputs": [
        {
          "output_type": "stream",
          "name": "stdout",
          "text": [
            "Drive already mounted at /content/drive; to attempt to forcibly remount, call drive.mount(\"/content/drive\", force_remount=True).\n",
            "/content/drive/MyDrive/NLP\n"
          ]
        }
      ],
      "source": [
        "from google.colab import drive\n",
        "drive.mount('/content/drive')\n",
        "%cd /content/drive/MyDrive/NLP"
      ]
    },
    {
      "cell_type": "code",
      "source": [
        "import torch\n",
        "import torch.nn as nn\n",
        "from torch.utils.data import DataLoader\n",
        "import pandas as pd\n",
        "from tqdm import tqdm\n",
        "from sklearn.metrics.pairwise import cosine_similarity\n",
        "from sklearn.metrics import v_measure_score\n",
        "from sklearn.cluster import KMeans, DBSCAN\n",
        "import numpy as np\n",
        "from torch.utils.data import TensorDataset\n",
        "import torch.nn.functional as F\n",
        "import random\n",
        "import matplotlib.pyplot as plt\n",
        "import seaborn as sns"
      ],
      "metadata": {
        "id": "nHS76JHYbkR2"
      },
      "execution_count": 85,
      "outputs": []
    },
    {
      "cell_type": "code",
      "source": [
        "USE_GPU = True\n",
        "if USE_GPU and torch.cuda.is_available():\n",
        "    device = torch.device('cuda')\n",
        "else:\n",
        "  device = torch.device('cpu')"
      ],
      "metadata": {
        "id": "bcfsyBTnbomi"
      },
      "execution_count": 86,
      "outputs": []
    },
    {
      "cell_type": "code",
      "source": [
        "data = pd.read_csv(\"bibledata.csv\")"
      ],
      "metadata": {
        "id": "n9fYPdSvbpxe"
      },
      "execution_count": 87,
      "outputs": []
    },
    {
      "cell_type": "code",
      "source": [
        "#for each sentence, the mean of 6-nearest embeddings are stored\n",
        "means = torch.load(\"bible_similar_mean.pt\", map_location = device)\n",
        "embeddings = torch.load(\"bible_embeddings.pt\", map_location = device)\n",
        "\n",
        "styles = embeddings - means\n",
        "target = F.normalize(styles)"
      ],
      "metadata": {
        "id": "bmpVo2iabsN1"
      },
      "execution_count": 88,
      "outputs": []
    },
    {
      "cell_type": "code",
      "source": [
        "similarity_matrix = embeddings.matmul(embeddings.T)"
      ],
      "metadata": {
        "id": "WD8bO0bbc0Zq"
      },
      "execution_count": 89,
      "outputs": []
    },
    {
      "cell_type": "code",
      "source": [
        "#For each embedding, the top 6 most similar vectors are stored\n",
        "top_n = similarity_matrix.sort()[1][:,-7:-1]"
      ],
      "metadata": {
        "id": "ufFtKyyZdRKz"
      },
      "execution_count": 90,
      "outputs": []
    },
    {
      "cell_type": "code",
      "source": [
        "random.seed(42)\n",
        "dataset = TensorDataset(embeddings, target, torch.arange(len(data)).to(device))\n",
        "train_dataloader = DataLoader(dataset, batch_size=73, shuffle=True, drop_last = True)"
      ],
      "metadata": {
        "id": "v_kPVv3eb2ny"
      },
      "execution_count": 91,
      "outputs": []
    },
    {
      "cell_type": "code",
      "source": [
        "l1 = 256\n",
        "l2 = 128\n",
        "z_dim = 64"
      ],
      "metadata": {
        "id": "AIqF_3ZEcE8e"
      },
      "execution_count": 92,
      "outputs": []
    },
    {
      "cell_type": "code",
      "source": [
        "class L2Norm(nn.Module):\n",
        "    def __init__(self, dim=1, eps=1e-12):\n",
        "        super(L2Norm, self).__init__()\n",
        "        self.dim = dim\n",
        "        self.eps = eps\n",
        "\n",
        "    def forward(self, x):\n",
        "        self.dim = len(x.shape) - 1\n",
        "        return F.normalize(x, p=2, dim=self.dim, eps=self.eps)"
      ],
      "metadata": {
        "id": "EV1oZMgCb5pT"
      },
      "execution_count": 93,
      "outputs": []
    },
    {
      "cell_type": "code",
      "source": [
        "def Encoder(x_dim, z_dim):\n",
        "  model = nn.Sequential(\n",
        "    nn.Linear(x_dim, l1),\n",
        "    nn.ReLU(),\n",
        "    nn.Linear(l1, l2),\n",
        "    nn.ReLU(),\n",
        "    nn.Linear(l2, z_dim))\n",
        "  return model"
      ],
      "metadata": {
        "id": "rm86Nx8mcHlU"
      },
      "execution_count": 94,
      "outputs": []
    },
    {
      "cell_type": "code",
      "source": [
        "def Decoder(x_dim, z_dim):\n",
        "  model = nn.Sequential(\n",
        "    nn.Linear(z_dim, l2),\n",
        "    nn.ReLU(),\n",
        "    nn.Linear(l2, l1),\n",
        "    nn.ReLU(),\n",
        "    nn.Linear(l1, x_dim),\n",
        "    L2Norm())\n",
        "  return model"
      ],
      "metadata": {
        "id": "qHw1kxi4cI8m"
      },
      "execution_count": 95,
      "outputs": []
    },
    {
      "cell_type": "code",
      "source": [
        "class Model(nn.Module):\n",
        "  def __init__(self, x_dim, z_dim, eps = 0.005):\n",
        "      super(Model, self).__init__()\n",
        "      self.Encoder = Encoder(x_dim, z_dim)\n",
        "      self.Decoder = Decoder(x_dim, z_dim)\n",
        "      self.eps = eps\n",
        "\n",
        "  def perturb(self, x, eps=None):\n",
        "      if eps is None:\n",
        "        eps = self.eps\n",
        "      return x + eps*torch.randn(x.shape).to(device)\n",
        "\n",
        "  def forward(self, x):\n",
        "      x = self.perturb(x)\n",
        "      z = self.Encoder(x)\n",
        "      out = self.Decoder(z)\n",
        "        \n",
        "      return out"
      ],
      "metadata": {
        "id": "_-6nKpdJcKTt"
      },
      "execution_count": 96,
      "outputs": []
    },
    {
      "cell_type": "code",
      "source": [
        "epochs = 50\n",
        "batch_size = 73"
      ],
      "metadata": {
        "id": "fIB2mz0McNXM"
      },
      "execution_count": 97,
      "outputs": []
    },
    {
      "cell_type": "markdown",
      "source": [],
      "metadata": {
        "id": "L2Fw3Sk9fH1c"
      }
    },
    {
      "cell_type": "code",
      "source": [
        "model = Model(384, z_dim).to(device)\n",
        "optimizer = torch.optim.Adam(model.parameters(), lr=0.001)"
      ],
      "metadata": {
        "id": "dzcL4PiIcP3Y"
      },
      "execution_count": 98,
      "outputs": []
    },
    {
      "cell_type": "code",
      "source": [
        "for epoch in tqdm(range(epochs)):\n",
        "    overall_loss = 0\n",
        "    for batch_idx, (x, label, index) in enumerate(train_dataloader):\n",
        "        x = x.view(batch_size, 384)\n",
        "        nearest = embeddings[top_n[index]]\n",
        "\n",
        "        optimizer.zero_grad()\n",
        "        predict = model(x)\n",
        "        nears = model.Encoder(nearest)\n",
        "\n",
        "        #Reconstruction Loss \n", 
        "        loss = 1*torch.sum(torch.square(1 - F.cosine_similarity(predict, label)))\n",
        "        #Positive-example loss \n",
        "        loss += 1*torch.sum(torch.square(1 - F.cosine_similarity(model.Encoder(x), model.Encoder(model.perturb(x, model.eps*10)))))\n",
        "        #Negative-example loss \n",
        "        loss += 1/6*torch.sum(torch.square(F.cosine_similarity(model.Encoder(x).unsqueeze(1), nears, dim=2)))\n",
        "      \n",
        "        overall_loss += loss.item()\n",
        "        \n",
        "        loss.backward()\n",
        "        optimizer.step()\n",
        "    print(\"\\tEpoch\", epoch + 1, \"complete!\", \"\\tAverage Loss: \", overall_loss / (batch_idx*64))"
      ],
      "metadata": {
        "colab": {
          "base_uri": "https://localhost:8080/"
        },
        "id": "9FyqtTJ-cRgL",
        "outputId": "60f84cec-6e5f-4d50-907b-3cc57a8d9697"
      },
      "execution_count": 99,
      "outputs": [
        {
          "output_type": "stream",
          "name": "stderr",
          "text": [
            "  2%|▏         | 1/50 [00:01<00:53,  1.09s/it]"
          ]
        },
        {
          "output_type": "stream",
          "name": "stdout",
          "text": [
            "\tEpoch 1 complete! \tAverage Loss:  1.5365941712301072\n"
          ]
        },
        {
          "output_type": "stream",
          "name": "stderr",
          "text": [
            "\r  4%|▍         | 2/50 [00:02<00:51,  1.08s/it]"
          ]
        },
        {
          "output_type": "stream",
          "name": "stdout",
          "text": [
            "\tEpoch 2 complete! \tAverage Loss:  1.167869070621386\n"
          ]
        },
        {
          "output_type": "stream",
          "name": "stderr",
          "text": [
            "\r  6%|▌         | 3/50 [00:03<00:50,  1.08s/it]"
          ]
        },
        {
          "output_type": "stream",
          "name": "stdout",
          "text": [
            "\tEpoch 3 complete! \tAverage Loss:  1.0579497373267397\n"
          ]
        },
        {
          "output_type": "stream",
          "name": "stderr",
          "text": [
            "\r  8%|▊         | 4/50 [00:04<00:50,  1.09s/it]"
          ]
        },
        {
          "output_type": "stream",
          "name": "stdout",
          "text": [
            "\tEpoch 4 complete! \tAverage Loss:  0.9853971041228673\n"
          ]
        },
        {
          "output_type": "stream",
          "name": "stderr",
          "text": [
            "\r 10%|█         | 5/50 [00:05<00:48,  1.07s/it]"
          ]
        },
        {
          "output_type": "stream",
          "name": "stdout",
          "text": [
            "\tEpoch 5 complete! \tAverage Loss:  0.9324595177010314\n"
          ]
        },
        {
          "output_type": "stream",
          "name": "stderr",
          "text": [
            "\r 12%|█▏        | 6/50 [00:06<00:52,  1.19s/it]"
          ]
        },
        {
          "output_type": "stream",
          "name": "stdout",
          "text": [
            "\tEpoch 6 complete! \tAverage Loss:  0.8920843597144297\n"
          ]
        },
        {
          "output_type": "stream",
          "name": "stderr",
          "text": [
            "\r 14%|█▍        | 7/50 [00:08<00:54,  1.28s/it]"
          ]
        },
        {
          "output_type": "stream",
          "name": "stdout",
          "text": [
            "\tEpoch 7 complete! \tAverage Loss:  0.8588417776643413\n"
          ]
        },
        {
          "output_type": "stream",
          "name": "stderr",
          "text": [
            "\r 16%|█▌        | 8/50 [00:09<00:53,  1.27s/it]"
          ]
        },
        {
          "output_type": "stream",
          "name": "stdout",
          "text": [
            "\tEpoch 8 complete! \tAverage Loss:  0.8307967667710291\n"
          ]
        },
        {
          "output_type": "stream",
          "name": "stderr",
          "text": [
            "\r 18%|█▊        | 9/50 [00:10<00:49,  1.21s/it]"
          ]
        },
        {
          "output_type": "stream",
          "name": "stdout",
          "text": [
            "\tEpoch 9 complete! \tAverage Loss:  0.8070866698271608\n"
          ]
        },
        {
          "output_type": "stream",
          "name": "stderr",
          "text": [
            "\r 20%|██        | 10/50 [00:11<00:46,  1.16s/it]"
          ]
        },
        {
          "output_type": "stream",
          "name": "stdout",
          "text": [
            "\tEpoch 10 complete! \tAverage Loss:  0.7865010814307487\n"
          ]
        },
        {
          "output_type": "stream",
          "name": "stderr",
          "text": [
            "\r 22%|██▏       | 11/50 [00:12<00:44,  1.13s/it]"
          ]
        },
        {
          "output_type": "stream",
          "name": "stdout",
          "text": [
            "\tEpoch 11 complete! \tAverage Loss:  0.7682933582835001\n"
          ]
        },
        {
          "output_type": "stream",
          "name": "stderr",
          "text": [
            "\r 24%|██▍       | 12/50 [00:13<00:41,  1.10s/it]"
          ]
        },
        {
          "output_type": "stream",
          "name": "stdout",
          "text": [
            "\tEpoch 12 complete! \tAverage Loss:  0.7508226057438001\n"
          ]
        },
        {
          "output_type": "stream",
          "name": "stderr",
          "text": [
            "\r 26%|██▌       | 13/50 [00:14<00:40,  1.09s/it]"
          ]
        },
        {
          "output_type": "stream",
          "name": "stdout",
          "text": [
            "\tEpoch 13 complete! \tAverage Loss:  0.7344973458819193\n"
          ]
        },
        {
          "output_type": "stream",
          "name": "stderr",
          "text": [
            "\r 28%|██▊       | 14/50 [00:15<00:38,  1.07s/it]"
          ]
        },
        {
          "output_type": "stream",
          "name": "stdout",
          "text": [
            "\tEpoch 14 complete! \tAverage Loss:  0.7279036290025058\n"
          ]
        },
        {
          "output_type": "stream",
          "name": "stderr",
          "text": [
            "\r 30%|███       | 15/50 [00:16<00:37,  1.07s/it]"
          ]
        },
        {
          "output_type": "stream",
          "name": "stdout",
          "text": [
            "\tEpoch 15 complete! \tAverage Loss:  0.7136757814720885\n"
          ]
        },
        {
          "output_type": "stream",
          "name": "stderr",
          "text": [
            "\r 32%|███▏      | 16/50 [00:17<00:36,  1.06s/it]"
          ]
        },
        {
          "output_type": "stream",
          "name": "stdout",
          "text": [
            "\tEpoch 16 complete! \tAverage Loss:  0.7043343227203578\n"
          ]
        },
        {
          "output_type": "stream",
          "name": "stderr",
          "text": [
            "\r 34%|███▍      | 17/50 [00:19<00:35,  1.07s/it]"
          ]
        },
        {
          "output_type": "stream",
          "name": "stdout",
          "text": [
            "\tEpoch 17 complete! \tAverage Loss:  0.6920604954843652\n"
          ]
        },
        {
          "output_type": "stream",
          "name": "stderr",
          "text": [
            "\r 36%|███▌      | 18/50 [00:20<00:38,  1.20s/it]"
          ]
        },
        {
          "output_type": "stream",
          "name": "stdout",
          "text": [
            "\tEpoch 18 complete! \tAverage Loss:  0.6850342346380834\n"
          ]
        },
        {
          "output_type": "stream",
          "name": "stderr",
          "text": [
            "\r 38%|███▊      | 19/50 [00:22<00:39,  1.28s/it]"
          ]
        },
        {
          "output_type": "stream",
          "name": "stdout",
          "text": [
            "\tEpoch 19 complete! \tAverage Loss:  0.6751509815046232\n"
          ]
        },
        {
          "output_type": "stream",
          "name": "stderr",
          "text": [
            "\r 40%|████      | 20/50 [00:23<00:37,  1.25s/it]"
          ]
        },
        {
          "output_type": "stream",
          "name": "stdout",
          "text": [
            "\tEpoch 20 complete! \tAverage Loss:  0.665614759268826\n"
          ]
        },
        {
          "output_type": "stream",
          "name": "stderr",
          "text": [
            "\r 42%|████▏     | 21/50 [00:24<00:34,  1.20s/it]"
          ]
        },
        {
          "output_type": "stream",
          "name": "stdout",
          "text": [
            "\tEpoch 21 complete! \tAverage Loss:  0.6589868174840326\n"
          ]
        },
        {
          "output_type": "stream",
          "name": "stderr",
          "text": [
            "\r 44%|████▍     | 22/50 [00:25<00:32,  1.16s/it]"
          ]
        },
        {
          "output_type": "stream",
          "name": "stdout",
          "text": [
            "\tEpoch 22 complete! \tAverage Loss:  0.6506257538926111\n"
          ]
        },
        {
          "output_type": "stream",
          "name": "stderr",
          "text": [
            "\r 46%|████▌     | 23/50 [00:26<00:30,  1.14s/it]"
          ]
        },
        {
          "output_type": "stream",
          "name": "stdout",
          "text": [
            "\tEpoch 23 complete! \tAverage Loss:  0.6438968357158034\n"
          ]
        },
        {
          "output_type": "stream",
          "name": "stderr",
          "text": [
            "\r 48%|████▊     | 24/50 [00:27<00:28,  1.11s/it]"
          ]
        },
        {
          "output_type": "stream",
          "name": "stdout",
          "text": [
            "\tEpoch 24 complete! \tAverage Loss:  0.6413289194237696\n"
          ]
        },
        {
          "output_type": "stream",
          "name": "stderr",
          "text": [
            "\r 50%|█████     | 25/50 [00:28<00:27,  1.09s/it]"
          ]
        },
        {
          "output_type": "stream",
          "name": "stdout",
          "text": [
            "\tEpoch 25 complete! \tAverage Loss:  0.6331299588288346\n"
          ]
        },
        {
          "output_type": "stream",
          "name": "stderr",
          "text": [
            "\r 52%|█████▏    | 26/50 [00:29<00:25,  1.07s/it]"
          ]
        },
        {
          "output_type": "stream",
          "name": "stdout",
          "text": [
            "\tEpoch 26 complete! \tAverage Loss:  0.627792186933021\n"
          ]
        },
        {
          "output_type": "stream",
          "name": "stderr",
          "text": [
            "\r 54%|█████▍    | 27/50 [00:30<00:24,  1.07s/it]"
          ]
        },
        {
          "output_type": "stream",
          "name": "stdout",
          "text": [
            "\tEpoch 27 complete! \tAverage Loss:  0.6225618328133674\n"
          ]
        },
        {
          "output_type": "stream",
          "name": "stderr",
          "text": [
            "\r 56%|█████▌    | 28/50 [00:31<00:23,  1.06s/it]"
          ]
        },
        {
          "output_type": "stream",
          "name": "stdout",
          "text": [
            "\tEpoch 28 complete! \tAverage Loss:  0.6173016763713262\n"
          ]
        },
        {
          "output_type": "stream",
          "name": "stderr",
          "text": [
            "\r 58%|█████▊    | 29/50 [00:32<00:23,  1.10s/it]"
          ]
        },
        {
          "output_type": "stream",
          "name": "stdout",
          "text": [
            "\tEpoch 29 complete! \tAverage Loss:  0.6142582244252506\n"
          ]
        },
        {
          "output_type": "stream",
          "name": "stderr",
          "text": [
            "\r 60%|██████    | 30/50 [00:34<00:24,  1.21s/it]"
          ]
        },
        {
          "output_type": "stream",
          "name": "stdout",
          "text": [
            "\tEpoch 30 complete! \tAverage Loss:  0.6084583899746202\n"
          ]
        },
        {
          "output_type": "stream",
          "name": "stderr",
          "text": [
            "\r 62%|██████▏   | 31/50 [00:35<00:24,  1.29s/it]"
          ]
        },
        {
          "output_type": "stream",
          "name": "stdout",
          "text": [
            "\tEpoch 31 complete! \tAverage Loss:  0.6041914694113274\n"
          ]
        },
        {
          "output_type": "stream",
          "name": "stderr",
          "text": [
            "\r 64%|██████▍   | 32/50 [00:36<00:21,  1.21s/it]"
          ]
        },
        {
          "output_type": "stream",
          "name": "stdout",
          "text": [
            "\tEpoch 32 complete! \tAverage Loss:  0.5986020871221203\n"
          ]
        },
        {
          "output_type": "stream",
          "name": "stderr",
          "text": [
            "\r 66%|██████▌   | 33/50 [00:37<00:19,  1.16s/it]"
          ]
        },
        {
          "output_type": "stream",
          "name": "stdout",
          "text": [
            "\tEpoch 33 complete! \tAverage Loss:  0.594411016735312\n"
          ]
        },
        {
          "output_type": "stream",
          "name": "stderr",
          "text": [
            "\r 68%|██████▊   | 34/50 [00:38<00:18,  1.13s/it]"
          ]
        },
        {
          "output_type": "stream",
          "name": "stdout",
          "text": [
            "\tEpoch 34 complete! \tAverage Loss:  0.5918160409551777\n"
          ]
        },
        {
          "output_type": "stream",
          "name": "stderr",
          "text": [
            "\r 70%|███████   | 35/50 [00:39<00:16,  1.10s/it]"
          ]
        },
        {
          "output_type": "stream",
          "name": "stdout",
          "text": [
            "\tEpoch 35 complete! \tAverage Loss:  0.5892655196255201\n"
          ]
        },
        {
          "output_type": "stream",
          "name": "stderr",
          "text": [
            "\r 72%|███████▏  | 36/50 [00:40<00:15,  1.08s/it]"
          ]
        },
        {
          "output_type": "stream",
          "name": "stdout",
          "text": [
            "\tEpoch 36 complete! \tAverage Loss:  0.5840248465538025\n"
          ]
        },
        {
          "output_type": "stream",
          "name": "stderr",
          "text": [
            "\r 74%|███████▍  | 37/50 [00:42<00:14,  1.08s/it]"
          ]
        },
        {
          "output_type": "stream",
          "name": "stdout",
          "text": [
            "\tEpoch 37 complete! \tAverage Loss:  0.5819383957614638\n"
          ]
        },
        {
          "output_type": "stream",
          "name": "stderr",
          "text": [
            "\r 76%|███████▌  | 38/50 [00:43<00:12,  1.07s/it]"
          ]
        },
        {
          "output_type": "stream",
          "name": "stdout",
          "text": [
            "\tEpoch 38 complete! \tAverage Loss:  0.5790678560733795\n"
          ]
        },
        {
          "output_type": "stream",
          "name": "stderr",
          "text": [
            "\r 78%|███████▊  | 39/50 [00:44<00:11,  1.07s/it]"
          ]
        },
        {
          "output_type": "stream",
          "name": "stdout",
          "text": [
            "\tEpoch 39 complete! \tAverage Loss:  0.5762735172493817\n"
          ]
        },
        {
          "output_type": "stream",
          "name": "stderr",
          "text": [
            "\r 80%|████████  | 40/50 [00:45<00:10,  1.07s/it]"
          ]
        },
        {
          "output_type": "stream",
          "name": "stdout",
          "text": [
            "\tEpoch 40 complete! \tAverage Loss:  0.572800197829939\n"
          ]
        },
        {
          "output_type": "stream",
          "name": "stderr",
          "text": [
            "\r 82%|████████▏ | 41/50 [00:46<00:10,  1.13s/it]"
          ]
        },
        {
          "output_type": "stream",
          "name": "stdout",
          "text": [
            "\tEpoch 41 complete! \tAverage Loss:  0.5682544500043948\n"
          ]
        },
        {
          "output_type": "stream",
          "name": "stderr",
          "text": [
            "\r 84%|████████▍ | 42/50 [00:47<00:09,  1.23s/it]"
          ]
        },
        {
          "output_type": "stream",
          "name": "stdout",
          "text": [
            "\tEpoch 42 complete! \tAverage Loss:  0.5666971516935793\n"
          ]
        },
        {
          "output_type": "stream",
          "name": "stderr",
          "text": [
            "\r 86%|████████▌ | 43/50 [00:49<00:09,  1.29s/it]"
          ]
        },
        {
          "output_type": "stream",
          "name": "stdout",
          "text": [
            "\tEpoch 43 complete! \tAverage Loss:  0.5628422523198062\n"
          ]
        },
        {
          "output_type": "stream",
          "name": "stderr",
          "text": [
            "\r 88%|████████▊ | 44/50 [00:50<00:07,  1.22s/it]"
          ]
        },
        {
          "output_type": "stream",
          "name": "stdout",
          "text": [
            "\tEpoch 44 complete! \tAverage Loss:  0.5614804413220654\n"
          ]
        },
        {
          "output_type": "stream",
          "name": "stderr",
          "text": [
            "\r 90%|█████████ | 45/50 [00:51<00:06,  1.25s/it]"
          ]
        },
        {
          "output_type": "stream",
          "name": "stdout",
          "text": [
            "\tEpoch 45 complete! \tAverage Loss:  0.557583700712413\n"
          ]
        },
        {
          "output_type": "stream",
          "name": "stderr",
          "text": [
            "\r 92%|█████████▏| 46/50 [00:53<00:05,  1.39s/it]"
          ]
        },
        {
          "output_type": "stream",
          "name": "stdout",
          "text": [
            "\tEpoch 46 complete! \tAverage Loss:  0.5565846548096774\n"
          ]
        },
        {
          "output_type": "stream",
          "name": "stderr",
          "text": [
            "\r 94%|█████████▍| 47/50 [00:54<00:04,  1.41s/it]"
          ]
        },
        {
          "output_type": "stream",
          "name": "stdout",
          "text": [
            "\tEpoch 47 complete! \tAverage Loss:  0.5546603445729165\n"
          ]
        },
        {
          "output_type": "stream",
          "name": "stderr",
          "text": [
            "\r 96%|█████████▌| 48/50 [00:56<00:02,  1.30s/it]"
          ]
        },
        {
          "output_type": "stream",
          "name": "stdout",
          "text": [
            "\tEpoch 48 complete! \tAverage Loss:  0.551765208783215\n"
          ]
        },
        {
          "output_type": "stream",
          "name": "stderr",
          "text": [
            "\r 98%|█████████▊| 49/50 [00:57<00:01,  1.23s/it]"
          ]
        },
        {
          "output_type": "stream",
          "name": "stdout",
          "text": [
            "\tEpoch 49 complete! \tAverage Loss:  0.5498076761013841\n"
          ]
        },
        {
          "output_type": "stream",
          "name": "stderr",
          "text": [
            "100%|██████████| 50/50 [00:58<00:00,  1.16s/it]"
          ]
        },
        {
          "output_type": "stream",
          "name": "stdout",
          "text": [
            "\tEpoch 50 complete! \tAverage Loss:  0.5467057379141246\n"
          ]
        },
        {
          "output_type": "stream",
          "name": "stderr",
          "text": [
            "\n"
          ]
        }
      ]
    },
    {
      "cell_type": "code",
      "source": [
        "#Compute KMeans clustering on encoded style vectors\n",
        "zs = model.Encoder(embeddings).detach().cpu()\n",
        "km = KMeans(n_clusters = 7)\n",
        "km.fit(zs)\n",
        "data[\"labels\"] = km.labels_"
      ],
      "metadata": {
        "colab": {
          "base_uri": "https://localhost:8080/"
        },
        "id": "0YU3BrKPcYHb",
        "outputId": "e6759e63-b05b-4631-ac95-4cdbab1a4707"
      },
      "execution_count": 100,
      "outputs": [
        {
          "output_type": "stream",
          "name": "stderr",
          "text": [
            "/usr/local/lib/python3.10/dist-packages/sklearn/cluster/_kmeans.py:870: FutureWarning: The default value of `n_init` will change from 10 to 'auto' in 1.4. Set the value of `n_init` explicitly to suppress the warning\n",
            "  warnings.warn(\n"
          ]
        }
      ]
    },
    {
      "cell_type": "code",
      "source": [
        "v_measure_score(data.id, data.labels)"
      ],
      "metadata": {
        "colab": {
          "base_uri": "https://localhost:8080/"
        },
        "id": "9AkxdWKBcZNa",
        "outputId": "9996021e-70e8-4441-dbc2-9c8b3ae847b5"
      },
      "execution_count": 101,
      "outputs": [
        {
          "output_type": "execute_result",
          "data": {
            "text/plain": [
              "0.4015925412479833"
            ]
          },
          "metadata": {},
          "execution_count": 101
        }
      ]
    },
    {
      "cell_type": "code",
      "source": [
        "km.fit(styles.cpu().detach())\n",
        "data[\"ll\"] = km.labels_\n",
        "v_measure_score(data.id, data.ll)"
      ],
      "metadata": {
        "colab": {
          "base_uri": "https://localhost:8080/"
        },
        "id": "O3U62Gnda7HM",
        "outputId": "37121089-4dc7-4627-cc1f-acf70e67d6a8"
      },
      "execution_count": 102,
      "outputs": [
        {
          "output_type": "stream",
          "name": "stderr",
          "text": [
            "/usr/local/lib/python3.10/dist-packages/sklearn/cluster/_kmeans.py:870: FutureWarning: The default value of `n_init` will change from 10 to 'auto' in 1.4. Set the value of `n_init` explicitly to suppress the warning\n",
            "  warnings.warn(\n"
          ]
        },
        {
          "output_type": "execute_result",
          "data": {
            "text/plain": [
              "0.3121354949445955"
            ]
          },
          "metadata": {},
          "execution_count": 102
        }
      ]
    },
    {
      "cell_type": "code",
      "source": [
        "torch.save(model.state_dict(), \"model-checkpoint.pt\")"
      ],
      "metadata": {
        "id": "UI9RlOUOgp6N"
      },
      "execution_count": 109,
      "outputs": []
    },
    {
      "cell_type": "code",
      "source": [
        "x = data.pivot_table(index = 'id', columns = 'labels', values = 'text', aggfunc = \"count\").fillna(0).astype(int)\n",
        "y = data.pivot_table(index = 'id', columns = 'll', values = 'text', aggfunc = \"count\").fillna(0).astype(int)"
      ],
      "metadata": {
        "id": "7Sp3nCqUg6un"
      },
      "execution_count": 104,
      "outputs": []
    },
    {
      "cell_type": "code",
      "source": [
        "#Compute microaverage and macroaverage\n",
        "print((x.max() / x.sum()).mean())\n",
        "print(x.max().sum()/x.sum().sum())"
      ],
      "metadata": {
        "colab": {
          "base_uri": "https://localhost:8080/"
        },
        "id": "6y1BTxlbhZb3",
        "outputId": "74b53e9f-1326-4ea5-d937-a970f1d6a0ef"
      },
      "execution_count": 105,
      "outputs": [
        {
          "output_type": "stream",
          "name": "stdout",
          "text": [
            "0.7509370820321859\n",
            "0.47963843071475165\n"
          ]
        }
      ]
    },
    {
      "cell_type": "code",
      "source": [
        "print((y.max() / y.sum()).mean())\n",
        "print(y.max().sum()/y.sum().sum())"
      ],
      "metadata": {
        "colab": {
          "base_uri": "https://localhost:8080/"
        },
        "id": "Ebppds8SlxuR",
        "outputId": "fe294c41-0b3b-4625-ff7e-c98667000d78"
      },
      "execution_count": 106,
      "outputs": [
        {
          "output_type": "stream",
          "name": "stdout",
          "text": [
            "0.6232107737369663\n",
            "0.4258689777280775\n"
          ]
        }
      ]
    },
    {
      "cell_type": "code",
      "source": [
        "sns.heatmap(x, annot = True, fmt = 'd', cmap='RdYlGn_r')\n",
        "plt.savefig('heatmap.png')"
      ],
      "metadata": {
        "colab": {
          "base_uri": "https://localhost:8080/",
          "height": 449
        },
        "id": "t8Cz_ojcitlf",
        "outputId": "b7a80d0c-4bc5-44d3-940c-7cb870454950"
      },
      "execution_count": 107,
      "outputs": [
        {
          "output_type": "display_data",
          "data": {
            "text/plain": [
              "<Figure size 640x480 with 2 Axes>"
            ],
            "image/png": "[encoded data removed]"
          },
          "metadata": {}
        }
      ]
    },
    {
      "cell_type": "code",
      "source": [
        "sns.heatmap(y, annot = True, fmt = 'd', cmap='RdYlGn_r')\n",
        "plt.savefig('l_heatmap.png')"
      ],
      "metadata": {
        "colab": {
          "base_uri": "https://localhost:8080/",
          "height": 449
        },
        "id": "cogPwH7hl0jt",
        "outputId": "9cb81d0a-528c-4abd-9351-1d20b939167a"
      },
      "execution_count": 108,
      "outputs": [
        {
          "output_type": "display_data",
          "data": {
            "text/plain": [
              "<Figure size 640x480 with 2 Axes>"
            ],
            "image/png": "[encoded data removed]"
          },
          "metadata": {}
        }
      ]
    }
  ]
}
